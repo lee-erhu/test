{
 "cells": [
  {
   "cell_type": "code",
   "execution_count": 17,
   "id": "a5349a78-f051-408d-a6ca-d444e9a5ad8a",
   "metadata": {
    "tags": []
   },
   "outputs": [
    {
     "name": "stdout",
     "output_type": "stream",
     "text": [
      "Message: invalid selector\n",
      "from javascript error: {\"status\":32,\"value\":\"An invalid or illegal selector was specified\"}\n",
      "  (Session info: chrome=131.0.6778.86); For documentation on this error, please visit: https://www.selenium.dev/documentation/webdriver/troubleshooting/errors#invalid-selector-exception\n",
      "Stacktrace:\n",
      "\tGetHandleVerifier [0x00007FF622A16CB5+28821]\n",
      "\t(No symbol) [0x00007FF622983840]\n",
      "\t(No symbol) [0x00007FF62282578A]\n",
      "\t(No symbol) [0x00007FF62282C2ED]\n",
      "\t(No symbol) [0x00007FF62282EFCC]\n",
      "\t(No symbol) [0x00007FF62282F09F]\n",
      "\t(No symbol) [0x00007FF622878C6A]\n",
      "\t(No symbol) [0x00007FF6228794AC]\n",
      "\t(No symbol) [0x00007FF6228C2647]\n",
      "\t(No symbol) [0x00007FF62289F33F]\n",
      "\t(No symbol) [0x00007FF6228BF412]\n",
      "\t(No symbol) [0x00007FF62289F0A3]\n",
      "\t(No symbol) [0x00007FF62286A778]\n",
      "\t(No symbol) [0x00007FF62286B8E1]\n",
      "\tGetHandleVerifier [0x00007FF622D4FCAD+3408013]\n",
      "\tGetHandleVerifier [0x00007FF622D6741F+3504127]\n",
      "\tGetHandleVerifier [0x00007FF622D5B5FD+3455453]\n",
      "\tGetHandleVerifier [0x00007FF622ADBDBB+835995]\n",
      "\t(No symbol) [0x00007FF62298EB5F]\n",
      "\t(No symbol) [0x00007FF62298A814]\n",
      "\t(No symbol) [0x00007FF62298A9AD]\n",
      "\t(No symbol) [0x00007FF62297A199]\n",
      "\tBaseThreadInitThunk [0x00007FF8BFA4257D+29]\n",
      "\tRtlUserThreadStart [0x00007FF8C0F4AA58+40]\n",
      "\n"
     ]
    }
   ],
   "source": [
    "from selenium import webdriver\n",
    "from selenium.webdriver.common.by import By\n",
    "from selenium.webdriver.support.ui import WebDriverWait\n",
    "from selenium.webdriver.support import expected_conditions as EC\n",
    "\n",
    "def login_to_website(username, password):\n",
    "    driver = webdriver.Chrome()\n",
    "\n",
    "    try:\n",
    "        # 打开登录页面\n",
    "        driver.get(\"https://www.unodc.org/LSS/Account/LogOn\")\n",
    "\n",
    "        # 等待用户名输入框可见并输入用户名\n",
    "        username_input = WebDriverWait(driver, 10).until(\n",
    "            EC.visibility_of_element_located((By.NAME, \"username\")))\n",
    "        username_input.send_keys(username)\n",
    "\n",
    "        # 等待密码输入框可见并输入密码\n",
    "        password_input = WebDriverWait(driver, 10).until(\n",
    "            EC.visibility_of_element_located((By.NAME, \"password\")))\n",
    "        password_input.send_keys(password)\n",
    "\n",
    "        # 找到登录按钮并点击\n",
    "        login_button = WebDriverWait(driver, 10).until(\n",
    "        EC.element_to_be_clickable((By.CSS_SELECTOR, \"div.login - button input[type='submit']\")))\n",
    "\n",
    "        # 点击登录按钮\n",
    "        login_button.click()\n",
    "\n",
    "\n",
    "        # 等待登录操作完成（这里简单等待一段时间，实际可能需要更精确的等待条件）\n",
    "        WebDriverWait(driver, 5)\n",
    "\n",
    "        # 验证登录是否成功，假设登录成功后页面标题包含\"Welcome\"\n",
    "        if \"Welcome\" in driver.title:\n",
    "            print(\"登录成功！\")\n",
    "        else:\n",
    "            print(\"登录失败！\")\n",
    "\n",
    "    except Exception as e:\n",
    "        print(e)\n",
    "    \n",
    "\n",
    "if __name__ == \"__main__\":\n",
    "    # 替换为你的实际用户名和密码\n",
    "    username == \"24767.user\"\n",
    "    password == \"Lxw013541\"\n",
    "    login_to_website(username, password)"
   ]
  }
 ],
 "metadata": {
  "kernelspec": {
   "display_name": "Python 3 (ipykernel)",
   "language": "python",
   "name": "python3"
  },
  "language_info": {
   "codemirror_mode": {
    "name": "ipython",
    "version": 3
   },
   "file_extension": ".py",
   "mimetype": "text/x-python",
   "name": "python",
   "nbconvert_exporter": "python",
   "pygments_lexer": "ipython3",
   "version": "3.11.5"
  }
 },
 "nbformat": 4,
 "nbformat_minor": 5
}
