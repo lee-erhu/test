{
 "cells": [
  {
   "cell_type": "code",
   "execution_count": 1,
   "id": "d0e70675-8ffb-436b-8917-d7076737041d",
   "metadata": {
    "tags": []
   },
   "outputs": [
    {
     "name": "stdout",
     "output_type": "stream",
     "text": [
      "3.11.5 | packaged by Anaconda, Inc. | (main, Sep 11 2023, 13:26:23) [MSC v.1916 64 bit (AMD64)]\n",
      "sys.version_info(major=3, minor=11, micro=5, releaselevel='final', serial=0)\n"
     ]
    }
   ],
   "source": [
    "import sys\n",
    "print(sys.version)\n",
    "print(sys.version_info)"
   ]
  },
  {
   "cell_type": "code",
   "execution_count": 5,
   "id": "c4f9b3ac-5e0a-47b7-9ebd-6022092f3eaf",
   "metadata": {
    "tags": []
   },
   "outputs": [],
   "source": [
    "import requests\n",
    "from bs4 import BeautifulSoup\n",
    "from selenium import webdriver\n",
    "from selenium.webdriver.common.by import By\n",
    "import time\n",
    "import pandas as pd\n",
    "\n",
    "def scrape_chemical_info_edge():\n",
    "    url = \"https://www.unodc.org/LSS/Substance\"\n",
    "\n",
    "    driver = webdriver.Edge()\n",
    "\n",
    "    try:\n",
    "        driver.get(url)\n",
    "        time.sleep(5)\n",
    "\n",
    "        # 找到Chemical Information表格\n",
    "        chemical_info_table = driver.find_element(By.CSS_SELECTOR, 'table')\n",
    "        rows = chemical_info_table.find_elements(By.TAG_NAME, 'tr')\n",
    "\n",
    "        data = []\n",
    "        for row in rows:\n",
    "            columns = row.find_elements(By.TAG_NAME, 'td')\n",
    "            if len(columns) > 0:\n",
    "                substance_group = columns[0].text\n",
    "                name = columns[1].text\n",
    "                iupac_name = columns[2].text if len(columns) > 2 else \"\"\n",
    "                smiles = columns[3].text if len(columns) > 3 else \"\"\n",
    "                data.append([name, iupac_name, substance_group, smiles])\n",
    "\n",
    "        return data\n",
    "    finally:\n",
    "        driver.quit()\n",
    "\n",
    "if __name__ == \"__main__\":\n",
    "    info = scrape_chemical_info_edge()\n",
    "    df = pd.DataFrame(info, columns=['Name', 'IUPAC Name', 'Substance Group', 'SMILES'])\n",
    "    df.to_csv('chemical_1.csv', index=False)"
   ]
  },
  {
   "cell_type": "code",
   "execution_count": 10,
   "id": "346ccd0b-9dca-4072-9f7e-dcbe00ca92e4",
   "metadata": {
    "tags": []
   },
   "outputs": [],
   "source": []
  },
  {
   "cell_type": "code",
   "execution_count": 11,
   "id": "2d92f663-5a45-4e66-90ee-e5573d27e73f",
   "metadata": {
    "tags": []
   },
   "outputs": [],
   "source": []
  }
 ],
 "metadata": {
  "kernelspec": {
   "display_name": "Python 3 (ipykernel)",
   "language": "python",
   "name": "python3"
  },
  "language_info": {
   "codemirror_mode": {
    "name": "ipython",
    "version": 3
   },
   "file_extension": ".py",
   "mimetype": "text/x-python",
   "name": "python",
   "nbconvert_exporter": "python",
   "pygments_lexer": "ipython3",
   "version": "3.11.5"
  }
 },
 "nbformat": 4,
 "nbformat_minor": 5
}
